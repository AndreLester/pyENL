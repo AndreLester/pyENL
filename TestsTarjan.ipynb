{
 "cells": [
  {
   "cell_type": "markdown",
   "metadata": {},
   "source": [
    "# 1. Tests con algoritmos de Miguel"
   ]
  },
  {
   "cell_type": "code",
   "execution_count": 1,
   "metadata": {
    "collapsed": true
   },
   "outputs": [],
   "source": [
    "from random import random\n",
    "from time import time\n",
    "import numpy as np"
   ]
  },
  {
   "cell_type": "code",
   "execution_count": 2,
   "metadata": {
    "collapsed": true
   },
   "outputs": [],
   "source": [
    "def test_M(N, n, f):\n",
    "    '''\n",
    "    Prueba el algoritmo f (1 es aleatorio, 2 es...) N veces usando en cada prueba n ecuaciones con n variables\n",
    "    en disposiciones aleatorias\n",
    "    '''\n",
    "    listos = 0 # Tests que se han llevado a cabo\n",
    "    tiempos = np.zeros(N)\n",
    "    eqnsLista = []\n",
    "    varsLista = []\n",
    "    for i in range(n):\n",
    "        eqnsLista.append('E' + str(i))\n",
    "        varsLista.append('X' + str(i))\n",
    "    while (listos <= N):\n",
    "        sirve = False # ¿Sirve el arreglo dado en el diccionario para hacer el test?\n",
    "        while (sirve == False):\n",
    "            test_dicc = {}\n",
    "            for eqn in eqnsLista:\n",
    "                # A cada ecuación asignarle un conjunto de por lo menos una variable:\n",
    "                sirve_eqn = 0\n",
    "                while (sirve_eqn == 0):\n",
    "                    lista_temp = []\n",
    "                    for j in range(5):\n",
    "                        lista_temp.append(varsLista[round(random())])\n",
    "                    # La lista ya está, comprobar que sirve:\n",
    "                    sirve_eqn = len(lista_temp)\n",
    "                # Ya sirve la lista temporal:\n",
    "                test_dicc[eqn] = lista_temp\n",
    "            # Ya se agregaron todas las ecuaciones, comprobar que cada variable esté!\n",
    "            if varInDict(varsLista, test_dicc):\n",
    "                sirve = True\n",
    "        \n",
    "        # Ya está el diccionario:\n",
    "        if f == 1:\n",
    "            fun = fun1() # Cambiar con los nombres de las funciones\n",
    "        if f == 2:\n",
    "            fun = fun2()\n",
    "        try:\n",
    "            t1 = time()\n",
    "            dic_resultado = fun(test_dicc)\n",
    "            t2 = time()\n",
    "            tiempos[listos] = t2 - t1\n",
    "        except:\n",
    "            print('Error ocurrido al intentar llamar la función, diccionario problemático guardado como debug.txt')\n",
    "            with open('debug.txt', 'wb') as f:\n",
    "                f.write(test_dicc.__str__().encode('utf8'))\n",
    "            return\n",
    "        # Comprobar que el resultado tenga todas las ecuaciones y variables:\n",
    "        if varInDict(varsLista, dic_resultado):\n",
    "            listos = listos + 1\n",
    "        else:\n",
    "            print('Error ocurrido al verificar el resultado, diccionario problemático guardado como debug.txt y \\\n",
    "            salida como salida.txt')\n",
    "            with open('debug.txt', 'wb') as f:\n",
    "                f.write(test_dicc.__str__().encode('utf8'))\n",
    "            with open('salida.txt', 'wb') as f:\n",
    "                f.write(dic_resultado.__str__().encode('utf-8'))\n",
    "    # Finalmente regresa el array numpy con los tiempos de ejecución, si llega hasta acá todo fue bien!\n",
    "    return tiempos"
   ]
  },
  {
   "cell_type": "code",
   "execution_count": 3,
   "metadata": {
    "collapsed": true
   },
   "outputs": [],
   "source": [
    "def varInDict(x, dic):\n",
    "    '''\n",
    "    Verifica que la variables x se encuentren en alguna de las listas de valores del diccionario dic\n",
    "    '''\n",
    "    todas_las_vars = []\n",
    "    for lista in list(dic.values()):\n",
    "        todas_las_vars.extend(lista)\n",
    "    output = 1\n",
    "    for var in x:\n",
    "        output = output * (var in todas_las_vars)\n",
    "    return bool(output)"
   ]
  },
  {
   "cell_type": "code",
   "execution_count": null,
   "metadata": {
    "collapsed": true
   },
   "outputs": [],
   "source": []
  }
 ],
 "metadata": {
  "kernelspec": {
   "display_name": "Python 3",
   "language": "python",
   "name": "python3"
  },
  "language_info": {
   "codemirror_mode": {
    "name": "ipython",
    "version": 3
   },
   "file_extension": ".py",
   "mimetype": "text/x-python",
   "name": "python",
   "nbconvert_exporter": "python",
   "pygments_lexer": "ipython3",
   "version": "3.4.5"
  }
 },
 "nbformat": 4,
 "nbformat_minor": 0
}
