{
 "cells": [
  {
   "cell_type": "markdown",
   "metadata": {},
   "source": [
    "# 1. Tests con algoritmos de Miguel"
   ]
  },
  {
   "cell_type": "code",
   "execution_count": 84,
   "metadata": {
    "collapsed": false
   },
   "outputs": [],
   "source": [
    "from random import random\n",
    "from time import time\n",
    "import numpy as np\n",
    "from utils import funcion_a, funcion_e\n",
    "from math import floor\n",
    "from copy import deepcopy"
   ]
  },
  {
   "cell_type": "code",
   "execution_count": 85,
   "metadata": {
    "collapsed": false
   },
   "outputs": [],
   "source": [
    "def test_M(N, n, fun):\n",
    "    '''\n",
    "    Prueba el algoritmo f (1 es aleatorio, 2 es...) N veces usando en cada prueba n ecuaciones con n variables\n",
    "    en disposiciones aleatorias\n",
    "    '''\n",
    "    listos = 0 # Tests que se han llevado a cabo\n",
    "    tiempos = np.zeros(N)\n",
    "    eqnsLista = []\n",
    "    varsLista = []\n",
    "    for i in range(n):\n",
    "        eqnsLista.append('E' + str(i))\n",
    "        varsLista.append('X' + str(i))\n",
    "    while (listos <= N):\n",
    "        sirve = False # ¿Sirve el arreglo dado en el diccionario para hacer el test?\n",
    "        while (sirve == False):\n",
    "            test_dicc = {}\n",
    "            for eqn in eqnsLista:\n",
    "                # A cada ecuación asignarle un conjunto de por lo menos una variable:\n",
    "                sirve_eqn = 0\n",
    "                while (sirve_eqn == 0):\n",
    "                    lista_temp = []\n",
    "                    for j in range(5):\n",
    "                        if round(random()):\n",
    "                            lista_temp.append(varsLista[j])\n",
    "                    # La lista ya está, comprobar que sirve:\n",
    "                    sirve_eqn = len(lista_temp)\n",
    "                # Ya sirve la lista temporal:\n",
    "                test_dicc[eqn] = lista_temp\n",
    "            # Ya se agregaron todas las ecuaciones, comprobar que cada variable esté!\n",
    "            if varInDict(varsLista, test_dicc, 1):\n",
    "                if (no se repite)\n",
    "                sirve = True\n",
    "        # Ya está el diccionario:\n",
    "        try:\n",
    "            copia = deepcopy(test_dicc)\n",
    "            t1 = time()\n",
    "            if fun == 1:\n",
    "                dic_resultado = funcion_a(test_dicc)\n",
    "            if fun == 2:\n",
    "                dic_resultado = funcion_e(test_dicc)\n",
    "            t2 = time()\n",
    "            tiempos[listos - 1] = t2 - t1\n",
    "        except Exception as e:\n",
    "            print('Error ocurrido al intentar llamar la función, diccionario problemático guardado como debug.txt')\n",
    "            print('Prueba número', str(listos + 1))\n",
    "            print(str(e))\n",
    "            with open('debug.txt', 'wb') as f:\n",
    "                f.write(copia.__str__().encode('utf8'))\n",
    "            return\n",
    "        # Comprobar que el resultado tenga todas las ecuaciones y variables:\n",
    "        if varInDict(varsLista, dic_resultado, 2):\n",
    "            listos = listos + 1\n",
    "        else:\n",
    "            print('Error ocurrido al verificar el resultado, diccionario problemático guardado como debug.txt y \\\n",
    "            salida como salida.txt')\n",
    "            with open('debug.txt', 'wb') as f:\n",
    "                f.write(copia.__str__().encode('utf8'))\n",
    "            with open('salida.txt', 'wb') as f:\n",
    "                f.write(dic_resultado.__str__().encode('utf-8'))\n",
    "    # Finalmente regresa el array numpy con los tiempos de ejecución, si llega hasta acá todo fue bien!\n",
    "    return tiempos"
   ]
  },
  {
   "cell_type": "code",
   "execution_count": 35,
   "metadata": {
    "collapsed": true
   },
   "outputs": [],
   "source": [
    "def varInDict(x, dic, opt):\n",
    "    '''\n",
    "    Verifica que la variables x se encuentren en alguna de las listas de valores del diccionario dic\n",
    "    '''\n",
    "    todas_las_vars = []\n",
    "    if opt == 1:\n",
    "        for lista in list(dic.values()):\n",
    "            todas_las_vars.extend(lista)\n",
    "    if opt == 2:\n",
    "        todas_las_vars = dic.values()\n",
    "    output = 1\n",
    "    for var in x:\n",
    "        try:\n",
    "            output = output * (var in todas_las_vars)\n",
    "        except Exception as e:\n",
    "            print(todas_las_vars)\n",
    "    return bool(output)"
   ]
  },
  {
   "cell_type": "markdown",
   "metadata": {
    "collapsed": true
   },
   "source": [
    "## Primer test con 5 ecuaciones y 10 intentos:"
   ]
  },
  {
   "cell_type": "markdown",
   "metadata": {},
   "source": [
    "### Random:"
   ]
  },
  {
   "cell_type": "code",
   "execution_count": 86,
   "metadata": {
    "collapsed": false,
    "scrolled": false
   },
   "outputs": [
    {
     "name": "stdout",
     "output_type": "stream",
     "text": [
      "Error ocurrido al intentar llamar la función, diccionario problemático guardado como debug.txt\n",
      "Prueba número 4\n",
      "list index out of range\n"
     ]
    }
   ],
   "source": [
    "test_M(10, 5, 2)"
   ]
  },
  {
   "cell_type": "code",
   "execution_count": 87,
   "metadata": {
    "collapsed": true
   },
   "outputs": [],
   "source": [
    "problema = {'E1': ['X1', 'X2', 'X3'], 'E2': ['X0'], 'E0': ['X0'], 'E4': ['X4'], 'E3': ['X0', 'X1', 'X2', 'X3', 'X4']}"
   ]
  },
  {
   "cell_type": "code",
   "execution_count": 88,
   "metadata": {
    "collapsed": false
   },
   "outputs": [
    {
     "ename": "IndexError",
     "evalue": "list index out of range",
     "output_type": "error",
     "traceback": [
      "\u001b[1;31m---------------------------------------------------------------------------\u001b[0m",
      "\u001b[1;31mIndexError\u001b[0m                                Traceback (most recent call last)",
      "\u001b[1;32m<ipython-input-88-b9126d6724b4>\u001b[0m in \u001b[0;36m<module>\u001b[1;34m()\u001b[0m\n\u001b[1;32m----> 1\u001b[1;33m \u001b[0maa\u001b[0m \u001b[1;33m=\u001b[0m \u001b[0mfuncion_e\u001b[0m\u001b[1;33m(\u001b[0m\u001b[0mproblema\u001b[0m\u001b[1;33m)\u001b[0m\u001b[1;33m\u001b[0m\u001b[0m\n\u001b[0m",
      "\u001b[1;32m/home/jhon/Documentos/pyENL/utils.py\u001b[0m in \u001b[0;36mfuncion_e\u001b[1;34m(Diccionario)\u001b[0m\n\u001b[0;32m    243\u001b[0m         \u001b[0mbandera\u001b[0m\u001b[1;33m=\u001b[0m\u001b[1;36m0\u001b[0m\u001b[1;33m\u001b[0m\u001b[0m\n\u001b[0;32m    244\u001b[0m         \u001b[0mlista\u001b[0m\u001b[1;33m=\u001b[0m \u001b[0mmin\u001b[0m\u001b[1;33m(\u001b[0m\u001b[0mDiccionario\u001b[0m\u001b[1;33m.\u001b[0m\u001b[0mvalues\u001b[0m\u001b[1;33m(\u001b[0m\u001b[1;33m)\u001b[0m\u001b[1;33m,\u001b[0m \u001b[0mkey\u001b[0m\u001b[1;33m=\u001b[0m\u001b[0mlen\u001b[0m \u001b[1;33m)\u001b[0m\u001b[1;33m\u001b[0m\u001b[0m\n\u001b[1;32m--> 245\u001b[1;33m         \u001b[0mvariable\u001b[0m \u001b[1;33m=\u001b[0m \u001b[0mlista\u001b[0m\u001b[1;33m[\u001b[0m\u001b[1;36m0\u001b[0m\u001b[1;33m]\u001b[0m\u001b[1;33m\u001b[0m\u001b[0m\n\u001b[0m\u001b[0;32m    246\u001b[0m \u001b[1;33m\u001b[0m\u001b[0m\n\u001b[0;32m    247\u001b[0m         \u001b[1;32mfor\u001b[0m \u001b[0mkey\u001b[0m \u001b[1;32min\u001b[0m \u001b[0mlista_claves\u001b[0m\u001b[1;33m:\u001b[0m \u001b[1;31m#Se barre todas las claves para borrar la variable del resto de Ecuaciones\u001b[0m\u001b[1;33m\u001b[0m\u001b[0m\n",
      "\u001b[1;31mIndexError\u001b[0m: list index out of range"
     ]
    }
   ],
   "source": [
    "aa = funcion_e(problema)"
   ]
  },
  {
   "cell_type": "code",
   "execution_count": null,
   "metadata": {
    "collapsed": true
   },
   "outputs": [],
   "source": []
  }
 ],
 "metadata": {
  "kernelspec": {
   "display_name": "Python 3",
   "language": "python",
   "name": "python3"
  },
  "language_info": {
   "codemirror_mode": {
    "name": "ipython",
    "version": 3
   },
   "file_extension": ".py",
   "mimetype": "text/x-python",
   "name": "python",
   "nbconvert_exporter": "python",
   "pygments_lexer": "ipython3",
   "version": "3.4.5"
  }
 },
 "nbformat": 4,
 "nbformat_minor": 0
}
